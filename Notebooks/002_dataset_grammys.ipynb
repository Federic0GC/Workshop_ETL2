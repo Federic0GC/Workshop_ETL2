{
 "cells": [
  {
   "cell_type": "markdown",
   "id": "3b0ee6ab",
   "metadata": {},
   "source": [
    "# EDA Datset Grammys"
   ]
  },
  {
   "cell_type": "markdown",
   "id": "65e1c533",
   "metadata": {},
   "source": [
    "- In this Jupyter notebook, you will see the entire process of extraction, cleaning, and loading of one of the 2 datasets of the project, in this case the Grammy dataset which is extracted from a database to be processed in this notebook. At the end of all its transformation, it will be saved into a pickle file that will allow us to interact with it from other notebooks.\n",
    "- The decision to use the pickle library was made for its ease of use and functionality in this Jupyter environment and Python programming language."
   ]
  },
  {
   "cell_type": "markdown",
   "id": "809114ab",
   "metadata": {},
   "source": [
    "## Library Importation\n",
    "### Used for Database Connection and Management\n",
    "- Sqlalchemy and create_engine: These libraries help us to interact with our MySQL database from language files and assist us with the process of creating connections and queries to the tables of our databases.\n",
    "- Dotenv, load_dotenv, and os: Libraries that assist us in handling credentials in public files like this notebook. Since we are using environment variables for the connection with MySQL, these libraries help us to use our credentials by calling them from a \".env\" file."
   ]
  },
  {
   "cell_type": "markdown",
   "id": "b74dec83",
   "metadata": {},
   "source": [
    "### Used for Exploratory and Statistical Analysis of the Dataset\n",
    "- Pandas and Matplotlib: High-performance libraries for data handling and exploratory data analysis, allowing for thorough and organized cleaning of our datasets. Additionally, they provide a wide range of statistical and graphical analysis capabilities, complemented by Matplotlib.\n",
    "- Pickle: A widely used library for data transfer and processes within the Python language, offering flexibility and easy data persistence."
   ]
  },
  {
   "cell_type": "code",
   "execution_count": 2,
   "id": "e17c61c5",
   "metadata": {},
   "outputs": [],
   "source": [
    "import os\n",
    "import pandas as pd\n",
    "from sqlalchemy import create_engine\n",
    "from dotenv import load_dotenv\n",
    "import pickle\n",
    "import pymysql"
   ]
  },
  {
   "cell_type": "markdown",
   "id": "940b3acd",
   "metadata": {},
   "source": [
    "## Loading Environment Variables (Variables that will allow us to connect to our database)"
   ]
  },
  {
   "cell_type": "code",
   "execution_count": 3,
   "id": "99072cd5-ddb6-439a-937a-a336d36b7426",
   "metadata": {},
   "outputs": [
    {
     "data": {
      "text/plain": [
       "True"
      ]
     },
     "execution_count": 3,
     "metadata": {},
     "output_type": "execute_result"
    }
   ],
   "source": [
    "load_dotenv()\n"
   ]
  },
  {
   "cell_type": "code",
   "execution_count": 4,
   "id": "c5470cbe-00e6-425e-a218-4fc23c581354",
   "metadata": {},
   "outputs": [],
   "source": [
    "\n",
    "db_user = os.getenv(\"DB_USER\")\n",
    "db_password = os.getenv(\"DB_PASSWORD\")\n",
    "db_host = os.getenv(\"DB_HOST\")\n",
    "db_database = os.getenv(\"DB_DATABASE\")"
   ]
  },
  {
   "cell_type": "markdown",
   "id": "d51ee858",
   "metadata": {},
   "source": [
    "## Connection Established with PostgreSQL using SQLAlchemy\n",
    "- As part of the code, we aim for it to return the header and information of the requested table at the end to verify that the process was successful"
   ]
  },
  {
   "cell_type": "code",
   "execution_count": 5,
   "id": "084f159e",
   "metadata": {},
   "outputs": [
    {
     "name": "stdout",
     "output_type": "stream",
     "text": [
      "Connection established with the database...\n",
      "   year                              title               published_at  \\\n",
      "0  2019  62nd Annual GRAMMY Awards  (2019)  2020-05-19T05:10:28-07:00   \n",
      "1  2019  62nd Annual GRAMMY Awards  (2019)  2020-05-19T05:10:28-07:00   \n",
      "2  2019  62nd Annual GRAMMY Awards  (2019)  2020-05-19T05:10:28-07:00   \n",
      "3  2019  62nd Annual GRAMMY Awards  (2019)  2020-05-19T05:10:28-07:00   \n",
      "4  2019  62nd Annual GRAMMY Awards  (2019)  2020-05-19T05:10:28-07:00   \n",
      "\n",
      "                  updated_at            category     nominee         artist  \\\n",
      "0  2020-05-19T05:10:28-07:00  Record Of The Year     Bad Guy  Billie Eilish   \n",
      "1  2020-05-19T05:10:28-07:00  Record Of The Year     Hey, Ma       Bon Iver   \n",
      "2  2020-05-19T05:10:28-07:00  Record Of The Year     7 rings  Ariana Grande   \n",
      "3  2020-05-19T05:10:28-07:00  Record Of The Year  Hard Place         H.E.R.   \n",
      "4  2020-05-19T05:10:28-07:00  Record Of The Year        Talk         Khalid   \n",
      "\n",
      "                                             workers  \\\n",
      "0  Finneas O'Connell, producer; Rob Kinelski & Fi...   \n",
      "1  BJ Burton, Brad Cook, Chris Messina & Justin V...   \n",
      "2  Charles Anderson, Tommy Brown, Michael Foster ...   \n",
      "3  Rodney “Darkchild” Jerkins, producer; Joseph H...   \n",
      "4  Disclosure & Denis Kosiak, producers; Ingmar C...   \n",
      "\n",
      "                                                 img  winner  \n",
      "0  https://www.grammy.com/sites/com/files/styles/...       1  \n",
      "1  https://www.grammy.com/sites/com/files/styles/...       1  \n",
      "2  https://www.grammy.com/sites/com/files/styles/...       1  \n",
      "3  https://www.grammy.com/sites/com/files/styles/...       1  \n",
      "4  https://www.grammy.com/sites/com/files/styles/...       1  \n",
      "<class 'pandas.core.frame.DataFrame'>\n",
      "RangeIndex: 4810 entries, 0 to 4809\n",
      "Data columns (total 10 columns):\n",
      " #   Column        Non-Null Count  Dtype \n",
      "---  ------        --------------  ----- \n",
      " 0   year          4810 non-null   int64 \n",
      " 1   title         4810 non-null   object\n",
      " 2   published_at  4810 non-null   object\n",
      " 3   updated_at    4810 non-null   object\n",
      " 4   category      4810 non-null   object\n",
      " 5   nominee       4804 non-null   object\n",
      " 6   artist        2970 non-null   object\n",
      " 7   workers       2620 non-null   object\n",
      " 8   img           3443 non-null   object\n",
      " 9   winner        4810 non-null   int64 \n",
      "dtypes: int64(2), object(8)\n",
      "memory usage: 375.9+ KB\n",
      "None\n",
      "Data connection and loading successful, connection closed.\n"
     ]
    }
   ],
   "source": [
    "try:\n",
    "    Workshop_2_mysql_connection_str = f'mysql+pymysql://{db_user}:{db_password}@{db_host}/{db_database}'\n",
    "    Workshop_2_mysql_db_connection = create_engine(Workshop_2_mysql_connection_str)\n",
    "    print(\"Connection established with the database...\")\n",
    "\n",
    "    table_name = 'grammy_awards'\n",
    "\n",
    "    query = f'SELECT * FROM {table_name}'\n",
    "\n",
    "    grammy_awards_df = pd.read_sql(query, con=Workshop_2_mysql_db_connection)\n",
    "\n",
    "    print(grammy_awards_df.head())\n",
    "    print(grammy_awards_df.info())\n",
    "\n",
    "except Exception as e:\n",
    "    print(f\"Failed to connect to the MySQL database: {e}\")\n",
    "\n",
    "finally:\n",
    "    if 'Workshop_2_mysql_db_connection' in locals():\n",
    "        Workshop_2_mysql_db_connection.dispose()\n",
    "    print(\"Data connection and loading successful, connection closed.\")\n",
    "\n"
   ]
  },
  {
   "cell_type": "markdown",
   "id": "2ab56679",
   "metadata": {},
   "source": [
    "\n",
    "## Search for Null Values\n",
    "- Similarly to the Spotify dataset, we can see that some fields are detected as null. These fields are 'nominee', 'artist', 'workers', 'img'."
   ]
  },
  {
   "cell_type": "code",
   "execution_count": 6,
   "id": "91cdaabf-137a-472f-a25e-6561a8b40184",
   "metadata": {},
   "outputs": [
    {
     "name": "stdout",
     "output_type": "stream",
     "text": [
      "Null Value Counts per Column:\n",
      "year               0\n",
      "title              0\n",
      "published_at       0\n",
      "updated_at         0\n",
      "category           0\n",
      "nominee            6\n",
      "artist          1840\n",
      "workers         2190\n",
      "img             1367\n",
      "winner             0\n",
      "dtype: int64\n"
     ]
    }
   ],
   "source": [
    "null_counts = grammy_awards_df.isnull().sum()\n",
    "print(\"Null Value Counts per Column:\")\n",
    "print(null_counts)\n"
   ]
  },
  {
   "cell_type": "markdown",
   "id": "1bc9c7f5",
   "metadata": {},
   "source": [
    "## Removal of Records with Null Values in the Fields ('nominee', 'artist', 'workers', 'img')"
   ]
  },
  {
   "cell_type": "code",
   "execution_count": 7,
   "id": "5f41084c-2890-4a6d-8832-180ba3a625af",
   "metadata": {},
   "outputs": [
    {
     "name": "stdout",
     "output_type": "stream",
     "text": [
      "year            0\n",
      "title           0\n",
      "published_at    0\n",
      "updated_at      0\n",
      "category        0\n",
      "nominee         0\n",
      "artist          0\n",
      "workers         0\n",
      "img             0\n",
      "winner          0\n",
      "dtype: int64\n",
      "<class 'pandas.core.frame.DataFrame'>\n",
      "Index: 834 entries, 0 to 4629\n",
      "Data columns (total 10 columns):\n",
      " #   Column        Non-Null Count  Dtype \n",
      "---  ------        --------------  ----- \n",
      " 0   year          834 non-null    int64 \n",
      " 1   title         834 non-null    object\n",
      " 2   published_at  834 non-null    object\n",
      " 3   updated_at    834 non-null    object\n",
      " 4   category      834 non-null    object\n",
      " 5   nominee       834 non-null    object\n",
      " 6   artist        834 non-null    object\n",
      " 7   workers       834 non-null    object\n",
      " 8   img           834 non-null    object\n",
      " 9   winner        834 non-null    int64 \n",
      "dtypes: int64(2), object(8)\n",
      "memory usage: 71.7+ KB\n",
      "None\n"
     ]
    }
   ],
   "source": [
    "grammy_awards_df.dropna(subset=['nominee', 'artist', 'workers', 'img'], inplace=True)\n",
    "\n",
    "print(grammy_awards_df.isnull().sum())\n",
    "print(grammy_awards_df.info())\n"
   ]
  },
  {
   "cell_type": "markdown",
   "id": "eb9fa7b9",
   "metadata": {},
   "source": [
    "## 'published_at' and 'updated_at' Fields\n",
    "- These fields have records that correspond to dates but are being treated as 'object' type data.\n",
    "- Let's analyze a bit more about how the records in these fields are structured."
   ]
  },
  {
   "cell_type": "code",
   "execution_count": 8,
   "id": "66f5647b-e17d-48ee-a29b-172f03ea0f55",
   "metadata": {},
   "outputs": [
    {
     "name": "stdout",
     "output_type": "stream",
     "text": [
      "Registros en el campo 'published_at':\n",
      "0       2020-05-19T05:10:28-07:00\n",
      "1       2020-05-19T05:10:28-07:00\n",
      "2       2020-05-19T05:10:28-07:00\n",
      "3       2020-05-19T05:10:28-07:00\n",
      "4       2020-05-19T05:10:28-07:00\n",
      "                  ...            \n",
      "4449    2017-11-28T00:03:45-08:00\n",
      "4450    2017-11-28T00:03:45-08:00\n",
      "4492    2017-11-28T00:03:45-08:00\n",
      "4493    2017-11-28T00:03:45-08:00\n",
      "4629    2017-11-28T00:03:45-08:00\n",
      "Name: published_at, Length: 834, dtype: object\n",
      "\n",
      "Registros en el campo 'updated_at':\n",
      "0       2020-05-19T05:10:28-07:00\n",
      "1       2020-05-19T05:10:28-07:00\n",
      "2       2020-05-19T05:10:28-07:00\n",
      "3       2020-05-19T05:10:28-07:00\n",
      "4       2020-05-19T05:10:28-07:00\n",
      "                  ...            \n",
      "4449    2019-09-10T01:07:37-07:00\n",
      "4450    2019-09-10T01:07:37-07:00\n",
      "4492    2019-09-10T01:06:59-07:00\n",
      "4493    2019-09-10T01:06:59-07:00\n",
      "4629    2019-09-10T01:09:02-07:00\n",
      "Name: updated_at, Length: 834, dtype: object\n"
     ]
    }
   ],
   "source": [
    "print(\"Registros en el campo 'published_at':\")\n",
    "print(grammy_awards_df['published_at'])\n",
    "\n",
    "print(\"\\nRegistros en el campo 'updated_at':\")\n",
    "print(grammy_awards_df['updated_at'])\n"
   ]
  },
  {
   "cell_type": "markdown",
   "id": "f0eff612",
   "metadata": {},
   "source": [
    "\n",
    "## Changing Type from 'object' to 'datetime' for the Fields 'published_at' and 'updated_at'"
   ]
  },
  {
   "cell_type": "code",
   "execution_count": 9,
   "id": "6cf17546-ac84-4109-8b35-2a2887eb2ea8",
   "metadata": {},
   "outputs": [
    {
     "name": "stdout",
     "output_type": "stream",
     "text": [
      "<class 'pandas.core.frame.DataFrame'>\n",
      "Index: 834 entries, 0 to 4629\n",
      "Data columns (total 10 columns):\n",
      " #   Column        Non-Null Count  Dtype              \n",
      "---  ------        --------------  -----              \n",
      " 0   year          834 non-null    int64              \n",
      " 1   title         834 non-null    object             \n",
      " 2   published_at  834 non-null    datetime64[ns, UTC]\n",
      " 3   updated_at    834 non-null    datetime64[ns, UTC]\n",
      " 4   category      834 non-null    object             \n",
      " 5   nominee       834 non-null    object             \n",
      " 6   artist        834 non-null    object             \n",
      " 7   workers       834 non-null    object             \n",
      " 8   img           834 non-null    object             \n",
      " 9   winner        834 non-null    int64              \n",
      "dtypes: datetime64[ns, UTC](2), int64(2), object(6)\n",
      "memory usage: 71.7+ KB\n",
      "None\n"
     ]
    }
   ],
   "source": [
    "grammy_awards_df['published_at'] = pd.to_datetime(grammy_awards_df['published_at'], utc=True)\n",
    "grammy_awards_df['updated_at'] = pd.to_datetime(grammy_awards_df['updated_at'], utc=True)\n",
    "print(grammy_awards_df.info())\n"
   ]
  },
  {
   "cell_type": "markdown",
   "id": "de82f5a0",
   "metadata": {},
   "source": [
    "## Analysis of the 'winner' Field\n",
    "- We can see that the field only has one value, which is \"1\", which in the context of 'winner' probably indicates that the song or nominee was a winner. However, in this case, the 'winner' field may not be adding much value if all records categorize them as winners. Throughout the workshop and the exploratory data analysis (EDA) phase, we will analyze the true importance of the field and decide whether to keep it or remove it from the dataset."
   ]
  },
  {
   "cell_type": "code",
   "execution_count": 16,
   "id": "48490605",
   "metadata": {},
   "outputs": [
    {
     "name": "stdout",
     "output_type": "stream",
     "text": [
      "Unique values of 'winner':\n",
      "winner\n",
      "1    834\n",
      "Name: count, dtype: int64\n"
     ]
    }
   ],
   "source": [
    "winners_count = grammy_awards_df['winner'].value_counts()\n",
    "\n",
    "print(\"Unique values of 'winner':\")\n",
    "print(winners_count)\n"
   ]
  },
  {
   "cell_type": "code",
   "execution_count": 17,
   "id": "df80b629",
   "metadata": {},
   "outputs": [
    {
     "name": "stdout",
     "output_type": "stream",
     "text": [
      "Unique values in the 'winner' column: [1]\n"
     ]
    }
   ],
   "source": [
    "unique_values = grammy_awards_df['winner'].unique()\n",
    "\n",
    "print(\"Unique values in the 'winner' column:\", unique_values)\n"
   ]
  },
  {
   "cell_type": "code",
   "execution_count": 18,
   "id": "7400adfe",
   "metadata": {},
   "outputs": [
    {
     "name": "stdout",
     "output_type": "stream",
     "text": [
      "Total records with value '1': 834\n"
     ]
    }
   ],
   "source": [
    "record_counts = grammy_awards_df['winner'].value_counts()\n",
    "\n",
    "for value, count in record_counts.items():\n",
    "    print(f\"Total records with value '{value}': {count}\")\n"
   ]
  },
  {
   "cell_type": "markdown",
   "id": "8993723b",
   "metadata": {},
   "source": [
    "## Saving Cleaned Dataset as a Pickle File"
   ]
  },
  {
   "cell_type": "code",
   "execution_count": 19,
   "id": "fc71e102",
   "metadata": {},
   "outputs": [],
   "source": [
    "with open('grammy_awards_df.pkl', 'wb') as f:\n",
    "    pickle.dump(grammy_awards_df, f)\n"
   ]
  },
  {
   "cell_type": "markdown",
   "id": "122705ef",
   "metadata": {},
   "source": [
    "\n",
    "## Alternative Saving to CSV\n",
    "- We include this line for anyone who wants to work with the cleaned dataframes as CSV files. However, remember that the merge process was facilitated by saving the Grammy and Spotify datasets as pickle files, allowing for seamless dataset handling across different notebooks."
   ]
  },
  {
   "cell_type": "code",
   "execution_count": 20,
   "id": "8b25e882",
   "metadata": {},
   "outputs": [],
   "source": [
    "#Save the DataFrame to a CSV file\n",
    "#grammy_awards_df.to_csv(\"cleaned_grammy_awards.csv\", index=False)"
   ]
  }
 ],
 "metadata": {
  "kernelspec": {
   "display_name": "Python 3 (ipykernel)",
   "language": "python",
   "name": "python3"
  },
  "language_info": {
   "codemirror_mode": {
    "name": "ipython",
    "version": 3
   },
   "file_extension": ".py",
   "mimetype": "text/x-python",
   "name": "python",
   "nbconvert_exporter": "python",
   "pygments_lexer": "ipython3",
   "version": "3.10.14"
  }
 },
 "nbformat": 4,
 "nbformat_minor": 5
}
