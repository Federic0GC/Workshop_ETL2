{
 "cells": [
  {
   "cell_type": "markdown",
   "id": "3b0ee6ab",
   "metadata": {},
   "source": [
    "# EDA Datset Grammys"
   ]
  },
  {
   "cell_type": "markdown",
   "id": "8d632b14",
   "metadata": {},
   "source": [
    "- En este jupyter notebook veras todo el proceso de extraccion, limpieza y carga de uno de los 2 datasets del proyecto, en este caso el dataset de los grammys el cual se extrae desde una base de datos para poder procesarlo en este notebook y al final de toda su transformacion guardarlo en un archivo pickle que nos permitira interactuar con el desde otros notebooks.\n",
    "- La desicion de usar la biblioteca pickle se tomo por su facilidad de uso y trabajo en este entorno de jupyter y lenguaje de programacion python"
   ]
  },
  {
   "cell_type": "markdown",
   "id": "ddc2188b",
   "metadata": {},
   "source": [
    "## Importacion de bibliotecas\n",
    "### Usadas para la conexion y manejo de la base de datos\n",
    "- Sqlaclhemy y create engine: Estas bibliotecas nos ayudan a poder interactuar con nuesta base de datos mysql desde archivos de lenguaje y nos ayudan con el proceso de crear conexiones y consultas a las tablas de nuestras bases de datos.\n",
    "\n",
    "- Dotenv, load_dotenv y os: Bibliotecas que nos ayuda al manejo de credenciales en archivos publicos como este notebook, como estamos usando variables de entorno para la conexion con mysql, estas bibliotecas son las que nos ayudan a poder usar nuestras credenciales llamandolas desde un archivo \".env\".\n"
   ]
  },
  {
   "cell_type": "markdown",
   "id": "4d0b6f0e",
   "metadata": {},
   "source": [
    "### Usadas para el analisis exploratiorio y estadistico del dataset\n",
    "- Pandas y matplotlib: Bibliotecas de alto rendimiento para el manejo y analisis exploratorio de datos permitiendonos una limpieza produnda y organizada con nuestros datasets, ademas de todo el campo de analisis estadistico y grafico profundo que se complementa con matplotlib.\n",
    "\n",
    "- Pickle: Biblioteca altamente utlizada para la trasnferencia de datos y procesos dentro del lenguaje python ofreciendonos una flexibilidad y facil uso de la persistencia de datos."
   ]
  },
  {
   "cell_type": "code",
   "execution_count": 1,
   "id": "e17c61c5",
   "metadata": {},
   "outputs": [],
   "source": [
    "import os\n",
    "import pandas as pd\n",
    "from sqlalchemy import create_engine\n",
    "from dotenv import load_dotenv\n",
    "import pickle\n",
    "import pymysql"
   ]
  },
  {
   "cell_type": "markdown",
   "id": "aa19fc8e",
   "metadata": {},
   "source": [
    "## Carga de las variables de entorno ( Variables que nos permitiran poder conectarnos con nuestra base de datos"
   ]
  },
  {
   "cell_type": "code",
   "execution_count": 2,
   "id": "99072cd5-ddb6-439a-937a-a336d36b7426",
   "metadata": {},
   "outputs": [
    {
     "data": {
      "text/plain": [
       "True"
      ]
     },
     "execution_count": 2,
     "metadata": {},
     "output_type": "execute_result"
    }
   ],
   "source": [
    "load_dotenv()\n"
   ]
  },
  {
   "cell_type": "code",
   "execution_count": 3,
   "id": "c5470cbe-00e6-425e-a218-4fc23c581354",
   "metadata": {},
   "outputs": [],
   "source": [
    "\n",
    "db_user = os.getenv(\"DB_USER\")\n",
    "db_password = os.getenv(\"DB_PASSWORD\")\n",
    "db_host = os.getenv(\"DB_HOST\")\n",
    "db_database = os.getenv(\"DB_DATABASE\")"
   ]
  },
  {
   "cell_type": "markdown",
   "id": "6d951393",
   "metadata": {},
   "source": [
    "## Connection Established with PostgreSQL using SQLAlchemy\n",
    "- Como parte del codigo buscamos a final que nos devuelva el encabezado y la informacion de la tabla solicitada para poder comprobar que el proceso fue exitoso"
   ]
  },
  {
   "cell_type": "code",
   "execution_count": 4,
   "id": "084f159e",
   "metadata": {},
   "outputs": [
    {
     "name": "stdout",
     "output_type": "stream",
     "text": [
      "Conexión establecida con la base de datos...\n",
      "   year                              title               published_at  \\\n",
      "0  2019  62nd Annual GRAMMY Awards  (2019)  2020-05-19T05:10:28-07:00   \n",
      "1  2019  62nd Annual GRAMMY Awards  (2019)  2020-05-19T05:10:28-07:00   \n",
      "2  2019  62nd Annual GRAMMY Awards  (2019)  2020-05-19T05:10:28-07:00   \n",
      "3  2019  62nd Annual GRAMMY Awards  (2019)  2020-05-19T05:10:28-07:00   \n",
      "4  2019  62nd Annual GRAMMY Awards  (2019)  2020-05-19T05:10:28-07:00   \n",
      "\n",
      "                  updated_at            category     nominee         artist  \\\n",
      "0  2020-05-19T05:10:28-07:00  Record Of The Year     Bad Guy  Billie Eilish   \n",
      "1  2020-05-19T05:10:28-07:00  Record Of The Year     Hey, Ma       Bon Iver   \n",
      "2  2020-05-19T05:10:28-07:00  Record Of The Year     7 rings  Ariana Grande   \n",
      "3  2020-05-19T05:10:28-07:00  Record Of The Year  Hard Place         H.E.R.   \n",
      "4  2020-05-19T05:10:28-07:00  Record Of The Year        Talk         Khalid   \n",
      "\n",
      "                                             workers  \\\n",
      "0  Finneas O'Connell, producer; Rob Kinelski & Fi...   \n",
      "1  BJ Burton, Brad Cook, Chris Messina & Justin V...   \n",
      "2  Charles Anderson, Tommy Brown, Michael Foster ...   \n",
      "3  Rodney “Darkchild” Jerkins, producer; Joseph H...   \n",
      "4  Disclosure & Denis Kosiak, producers; Ingmar C...   \n",
      "\n",
      "                                                 img  winner  \n",
      "0  https://www.grammy.com/sites/com/files/styles/...       1  \n",
      "1  https://www.grammy.com/sites/com/files/styles/...       1  \n",
      "2  https://www.grammy.com/sites/com/files/styles/...       1  \n",
      "3  https://www.grammy.com/sites/com/files/styles/...       1  \n",
      "4  https://www.grammy.com/sites/com/files/styles/...       1  \n",
      "<class 'pandas.core.frame.DataFrame'>\n",
      "RangeIndex: 4810 entries, 0 to 4809\n",
      "Data columns (total 10 columns):\n",
      " #   Column        Non-Null Count  Dtype \n",
      "---  ------        --------------  ----- \n",
      " 0   year          4810 non-null   int64 \n",
      " 1   title         4810 non-null   object\n",
      " 2   published_at  4810 non-null   object\n",
      " 3   updated_at    4810 non-null   object\n",
      " 4   category      4810 non-null   object\n",
      " 5   nominee       4804 non-null   object\n",
      " 6   artist        2970 non-null   object\n",
      " 7   workers       2620 non-null   object\n",
      " 8   img           3443 non-null   object\n",
      " 9   winner        4810 non-null   int64 \n",
      "dtypes: int64(2), object(8)\n",
      "memory usage: 375.9+ KB\n",
      "None\n",
      "Conexión de datos y carga realizada correctamente, conexión cerrada.\n"
     ]
    }
   ],
   "source": [
    "try:\n",
    "    Workshop_2_mysql_connection_str = f'mysql+pymysql://{db_user}:{db_password}@{db_host}/{db_database}'\n",
    "    Workshop_2_mysql_db_connection = create_engine(Workshop_2_mysql_connection_str)\n",
    "    print(\"Conexión establecida con la base de datos...\")\n",
    "\n",
    "    table_name = 'grammy_awards'\n",
    "\n",
    "    query = f'SELECT * FROM {table_name}'\n",
    "\n",
    "    grammy_awards_df = pd.read_sql(query, con=Workshop_2_mysql_db_connection)\n",
    "\n",
    "    print(grammy_awards_df.head())\n",
    "    print(grammy_awards_df.info())\n",
    "\n",
    "except Exception as e:\n",
    "    print(f\"Fallo al conectar a la base de datos MySQL: {e}\")\n",
    "\n",
    "finally:\n",
    "    if 'Workshop_2_mysql_db_connection' in locals():\n",
    "        Workshop_2_mysql_db_connection.dispose()\n",
    "    print(\"Conexión de datos y carga realizada correctamente, conexión cerrada.\")\n",
    "\n"
   ]
  },
  {
   "cell_type": "markdown",
   "id": "257d4acc",
   "metadata": {},
   "source": [
    "# Busqueda de valores nulos\n",
    "- De igual manera que en el dataset de grammys podemos ver como algunos campos se detectan como nulos, estos campos son 'nominee', 'artist', 'workers', 'img'"
   ]
  },
  {
   "cell_type": "code",
   "execution_count": null,
   "id": "91cdaabf-137a-472f-a25e-6561a8b40184",
   "metadata": {},
   "outputs": [],
   "source": [
    "# Verificar si hay valores nulos en el DataFrame\n",
    "null_counts = grammy_awards_df.isnull().sum()\n",
    "print(\"Recuento de valores nulos por columna:\")\n",
    "print(null_counts)\n"
   ]
  },
  {
   "cell_type": "markdown",
   "id": "4b07db50",
   "metadata": {},
   "source": [
    "## Eliminacion de  registros con valores nulos en los campos ('nominee', 'artist', 'workers', 'img')"
   ]
  },
  {
   "cell_type": "code",
   "execution_count": null,
   "id": "5f41084c-2890-4a6d-8832-180ba3a625af",
   "metadata": {},
   "outputs": [],
   "source": [
    "# Eliminar filas con valores nulos en las columnas especificadas del DataFrame original\n",
    "grammy_awards_df.dropna(subset=['nominee', 'artist', 'workers', 'img'], inplace=True)\n",
    "\n",
    "# Verificar si se eliminaron correctamente los valores nulos en el DataFrame original\n",
    "print(grammy_awards_df.isnull().sum())\n",
    "print(grammy_awards_df.info())\n"
   ]
  },
  {
   "cell_type": "markdown",
   "id": "a31259e9",
   "metadata": {},
   "source": [
    "# Campos 'published_at' y 'update_at'\n",
    "- Estos campos tienen registros que corresponden a fechas pero se estan trabajando coomo datos de tipo 'objeto'\n",
    "- Analicemos un poco mas de como se estructuran los registros de estos campos"
   ]
  },
  {
   "cell_type": "code",
   "execution_count": null,
   "id": "66f5647b-e17d-48ee-a29b-172f03ea0f55",
   "metadata": {},
   "outputs": [],
   "source": [
    "print(\"Registros en el campo 'published_at':\")\n",
    "print(grammy_awards_df['published_at'])\n",
    "\n",
    "print(\"\\nRegistros en el campo 'updated_at':\")\n",
    "print(grammy_awards_df['updated_at'])\n"
   ]
  },
  {
   "cell_type": "markdown",
   "id": "c9b472e4",
   "metadata": {},
   "source": [
    "## Cambio de tipo 'objeto' a 'datatime' para los campos 'published_at' y 'updated_at'"
   ]
  },
  {
   "cell_type": "code",
   "execution_count": null,
   "id": "6cf17546-ac84-4109-8b35-2a2887eb2ea8",
   "metadata": {},
   "outputs": [],
   "source": [
    "grammy_awards_df['published_at'] = pd.to_datetime(grammy_awards_df['published_at'], utc=True)\n",
    "grammy_awards_df['updated_at'] = pd.to_datetime(grammy_awards_df['updated_at'], utc=True)\n",
    "print(grammy_awards_df.info())\n"
   ]
  },
  {
   "cell_type": "markdown",
   "id": "33fc064a",
   "metadata": {},
   "source": [
    "## Alternativa de guardado en csv\n",
    "- Esta linea la colocamos para la persona que quiera trabar con los dataframes ya limpios como csv, pero recordemos que el proceso del merge se hizo gracias a que los datasets de grammys y de spotify se guardaron como archivos pickle que permitieron el manejo de trabajo de datasets en diferentes notebooks"
   ]
  },
  {
   "cell_type": "code",
   "execution_count": null,
   "id": "170d9fa5",
   "metadata": {},
   "outputs": [],
   "source": [
    "#print(grammy_awards_df.info())\n",
    "# Guardar el DataFrame en un archivo CSV\n",
    "#grammy_awards_df.to_csv('grammy_dataset_EDA.csv', index=False)"
   ]
  },
  {
   "cell_type": "code",
   "execution_count": null,
   "id": "60191606",
   "metadata": {},
   "outputs": [],
   "source": [
    "# Leer el archivo CSV en un DataFrame y parsear las fechas\n",
    "#grammy_awards_EDA = pd.read_csv('C:/Users/fedeg/OneDrive/Escritorio/Workshop_ETL2/Notebooks/grammy_dataset_EDA.csv', parse_dates=['published_at', 'updated_at'])\n",
    "\n",
    "# Mostrar información del DataFrame\n",
    "#print(grammy_awards_EDA.info())"
   ]
  },
  {
   "cell_type": "markdown",
   "id": "37ff1318",
   "metadata": {},
   "source": [
    "## Guardando dataset limpio como archivo pickle"
   ]
  },
  {
   "cell_type": "code",
   "execution_count": null,
   "id": "fc71e102",
   "metadata": {},
   "outputs": [],
   "source": [
    "# Supongamos que spotify_dataset es tu DataFrame limpio en tu primer notebook\n",
    "# Guardar el DataFrame como archivo pickle\n",
    "with open('grammy_awards_df.pkl', 'wb') as f:\n",
    "    pickle.dump(grammy_awards_df, f)\n"
   ]
  },
  {
   "cell_type": "code",
   "execution_count": null,
   "id": "f13674ee",
   "metadata": {},
   "outputs": [],
   "source": [
    "# Supongamos que el campo se llama 'album_name'\n",
    "album_names_unique = grammy_awards_df['artist'].unique()\n",
    "\n",
    "# Organiza los valores únicos\n",
    "album_names_unique_sorted = sorted(album_names_unique)\n",
    "\n",
    "# Imprime los valores únicos ordenados\n",
    "for album_name in album_names_unique_sorted:\n",
    "    print(album_name)"
   ]
  },
  {
   "cell_type": "code",
   "execution_count": null,
   "id": "eb9bf92a",
   "metadata": {},
   "outputs": [],
   "source": [
    "print(grammy_awards_df.info())"
   ]
  },
  {
   "cell_type": "code",
   "execution_count": null,
   "id": "48490605",
   "metadata": {},
   "outputs": [],
   "source": [
    "# Obtener los valores únicos de la columna 'winner' y contar cuántas veces aparece cada uno\n",
    "conteo_winners = grammy_awards_df['winner'].value_counts()\n",
    "\n",
    "# Imprimir el resultado\n",
    "print(\"Valores únicos de 'winner':\")\n",
    "print(conteo_winners)"
   ]
  },
  {
   "cell_type": "code",
   "execution_count": null,
   "id": "77e73a98",
   "metadata": {},
   "outputs": [],
   "source": []
  }
 ],
 "metadata": {
  "kernelspec": {
   "display_name": "Python 3 (ipykernel)",
   "language": "python",
   "name": "python3"
  },
  "language_info": {
   "codemirror_mode": {
    "name": "ipython",
    "version": 3
   },
   "file_extension": ".py",
   "mimetype": "text/x-python",
   "name": "python",
   "nbconvert_exporter": "python",
   "pygments_lexer": "ipython3",
   "version": "3.10.14"
  }
 },
 "nbformat": 4,
 "nbformat_minor": 5
}
